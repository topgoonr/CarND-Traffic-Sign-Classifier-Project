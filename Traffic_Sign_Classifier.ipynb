{
 "cells": [
  {
   "cell_type": "markdown",
   "metadata": {},
   "source": [
    "# Self-Driving Car Engineer Nanodegree\n",
    "\n",
    "## Deep Learning\n",
    "\n",
    "## Project: Build a Traffic Sign Recognition Classifier\n",
    "\n",
    "In this notebook, a template is provided for you to implement your functionality in stages, which is required to successfully complete this project. If additional code is required that cannot be included in the notebook, be sure that the Python code is successfully imported and included in your submission if necessary. \n",
    "\n",
    "> **Note**: Once you have completed all of the code implementations, you need to finalize your work by exporting the iPython Notebook as an HTML document. Before exporting the notebook to html, all of the code cells need to have been run so that reviewers can see the final implementation and output. You can then export the notebook by using the menu above and navigating to  \\n\",\n",
    "    \"**File -> Download as -> HTML (.html)**. Include the finished document along with this notebook as your submission. \n",
    "\n",
    "In addition to implementing code, there is a writeup to complete. The writeup should be completed in a separate file, which can be either a markdown file or a pdf document. There is a [write up template](https://github.com/udacity/CarND-Traffic-Sign-Classifier-Project/blob/master/writeup_template.md) that can be used to guide the writing process. Completing the code template and writeup template will cover all of the [rubric points](https://review.udacity.com/#!/rubrics/481/view) for this project.\n",
    "\n",
    "The [rubric](https://review.udacity.com/#!/rubrics/481/view) contains \"Stand Out Suggestions\" for enhancing the project beyond the minimum requirements. The stand out suggestions are optional. If you decide to pursue the \"stand out suggestions\", you can include the code in this Ipython notebook and also discuss the results in the writeup file.\n",
    "\n",
    "\n",
    ">**Note:** Code and Markdown cells can be executed using the **Shift + Enter** keyboard shortcut. In addition, Markdown cells can be edited by typically double-clicking the cell to enter edit mode."
   ]
  },
  {
   "cell_type": "markdown",
   "metadata": {},
   "source": [
    "---\n",
    "## Step 0: Load The Data"
   ]
  },
  {
   "cell_type": "code",
   "execution_count": 1,
   "metadata": {},
   "outputs": [
    {
     "name": "stdout",
     "output_type": "stream",
     "text": [
      "34799 (34799, 32, 32, 3)\n",
      "4410\n",
      "12630\n"
     ]
    }
   ],
   "source": [
    "# Load pickled data\n",
    "import pickle\n",
    "\n",
    "# TODO: Fill this in based on where you saved the training and testing data\n",
    "\n",
    "training_file = '/home/jay/sdcnd/dataset-traffic-sign-classifier/train.p'\n",
    "validation_file= '/home/jay/sdcnd/dataset-traffic-sign-classifier/valid.p'\n",
    "testing_file = '/home/jay/sdcnd/dataset-traffic-sign-classifier/test.p'\n",
    "\n",
    "with open(training_file, mode='rb') as f:\n",
    "    train = pickle.load(f)\n",
    "with open(validation_file, mode='rb') as f:\n",
    "    valid = pickle.load(f)\n",
    "with open(testing_file, mode='rb') as f:\n",
    "    test = pickle.load(f)\n",
    "    \n",
    "X_train, y_train = train['features'], train['labels']\n",
    "X_valid, y_valid = valid['features'], valid['labels']\n",
    "X_test, y_test = test['features'], test['labels']\n",
    "\n",
    "print(len(X_train), X_train.shape)\n",
    "print(len(X_valid))\n",
    "print(len(X_test))"
   ]
  },
  {
   "cell_type": "markdown",
   "metadata": {},
   "source": [
    "---\n",
    "\n",
    "## Step 1: Dataset Summary & Exploration\n",
    "\n",
    "The pickled data is a dictionary with 4 key/value pairs:\n",
    "\n",
    "- `'features'` is a 4D array containing raw pixel data of the traffic sign images, (num examples, width, height, channels).\n",
    "- `'labels'` is a 1D array containing the label/class id of the traffic sign. The file `signnames.csv` contains id -> name mappings for each id.\n",
    "- `'sizes'` is a list containing tuples, (width, height) representing the original width and height the image.\n",
    "- `'coords'` is a list containing tuples, (x1, y1, x2, y2) representing coordinates of a bounding box around the sign in the image. **THESE COORDINATES ASSUME THE ORIGINAL IMAGE. THE PICKLED DATA CONTAINS RESIZED VERSIONS (32 by 32) OF THESE IMAGES**\n",
    "\n",
    "Complete the basic data summary below. Use python, numpy and/or pandas methods to calculate the data summary rather than hard coding the results. For example, the [pandas shape method](http://pandas.pydata.org/pandas-docs/stable/generated/pandas.DataFrame.shape.html) might be useful for calculating some of the summary results. "
   ]
  },
  {
   "cell_type": "markdown",
   "metadata": {},
   "source": [
    "### Provide a Basic Summary of the Data Set Using Python, Numpy and/or Pandas"
   ]
  },
  {
   "cell_type": "code",
   "execution_count": 2,
   "metadata": {},
   "outputs": [
    {
     "name": "stdout",
     "output_type": "stream",
     "text": [
      "Number of training examples = 34799\n",
      "Number of testing examples = 12630\n",
      "Number of validation examples = 4410\n",
      "Image data shape = (32, 32, 3)\n",
      "Number of classes = 43\n"
     ]
    }
   ],
   "source": [
    "### Replace each question mark with the appropriate value. \n",
    "### Use python, pandas or numpy methods rather than hard coding the results\n",
    "import numpy as np \n",
    "import pandas as pd\n",
    "\n",
    "# TODO: Number of training examples\n",
    "n_train = len(train['labels'])\n",
    "# print(n_train)\n",
    "# TODO: Number of validation examples\n",
    "n_validation = len(valid['labels'])\n",
    "\n",
    "# TODO: Number of testing examples.\n",
    "n_test = len(test['labels'])\n",
    "\n",
    "# TODO: What's the shape of an traffic sign image?\n",
    "image_shape = train['features'][0].shape\n",
    "\n",
    "# TODO: How many unique classes/labels there are in the dataset.\n",
    "n_classes = len(np.unique(y_train))\n",
    "\n",
    "print(\"Number of training examples =\", n_train)\n",
    "print(\"Number of testing examples =\", n_test)\n",
    "print(\"Number of validation examples =\", n_validation)\n",
    "print(\"Image data shape =\", image_shape)\n",
    "print(\"Number of classes =\", n_classes)"
   ]
  },
  {
   "cell_type": "markdown",
   "metadata": {},
   "source": [
    "### Include an exploratory visualization of the dataset"
   ]
  },
  {
   "cell_type": "markdown",
   "metadata": {},
   "source": [
    "Visualize the German Traffic Signs Dataset using the pickled file(s). This is open ended, suggestions include: plotting traffic sign images, plotting the count of each sign, etc. \n",
    "\n",
    "The [Matplotlib](http://matplotlib.org/) [examples](http://matplotlib.org/examples/index.html) and [gallery](http://matplotlib.org/gallery.html) pages are a great resource for doing visualizations in Python.\n",
    "\n",
    "**NOTE:** It's recommended you start with something simple first. If you wish to do more, come back to it after you've completed the rest of the sections. It can be interesting to look at the distribution of classes in the training, validation and test set. Is the distribution the same? Are there more examples of some classes than others?"
   ]
  },
  {
   "cell_type": "code",
   "execution_count": 3,
   "metadata": {},
   "outputs": [
    {
     "name": "stdout",
     "output_type": "stream",
     "text": [
      "label= 3\n"
     ]
    },
    {
     "data": {
      "image/png": "[encoded data removed]",
      "text/plain": [
       "<matplotlib.figure.Figure at 0x7febb0c3ee48>"
      ]
     },
     "metadata": {},
     "output_type": "display_data"
    }
   ],
   "source": [
    "### Data exploration visualization code goes here.\n",
    "### Feel free to use as many code cells as needed.\n",
    "import matplotlib.pyplot as plt\n",
    "import random\n",
    "# Visualizations will be shown in the notebook.\n",
    "%matplotlib inline\n",
    "\n",
    "index = random.randint(0, n_train)\n",
    "image = train['features'][index].squeeze()\n",
    "\n",
    "\n",
    "plt.figure(figsize=(1,1))\n",
    "plt.imshow(image)\n",
    "#print(train['features'][index])\n",
    "print('label=', train['labels'][index])\n",
    "\n",
    "\n",
    "\n"
   ]
  },
  {
   "cell_type": "code",
   "execution_count": 4,
   "metadata": {},
   "outputs": [
    {
     "name": "stdout",
     "output_type": "stream",
     "text": [
      "{0: 180, 1: 1980, 2: 2010, 3: 1260, 4: 1770, 5: 1650, 6: 360, 7: 1290, 8: 1260, 9: 1320, 10: 1800, 11: 1170, 12: 1890, 13: 1920, 14: 690, 15: 540, 16: 360, 17: 990, 18: 1080, 19: 180, 20: 300, 21: 270, 22: 330, 23: 450, 24: 240, 25: 1350, 26: 540, 27: 210, 28: 480, 29: 240, 30: 390, 31: 690, 32: 210, 33: 599, 34: 360, 35: 1080, 36: 330, 37: 180, 38: 1860, 39: 270, 40: 300, 41: 210, 42: 210}\n",
      "max freq    =  2010\n",
      "min freq    =  180\n",
      "upperlimit =  2010\n",
      "sum of all frequencies =  34799\n",
      "mean        =  809.279069767\n",
      "max perturbations required =  11\n"
     ]
    }
   ],
   "source": [
    "\n",
    "count = {}\n",
    "for i in range(n_classes):\n",
    "    count[i] = 0\n",
    "for i in range(n_train):\n",
    "    key = train['labels'][i]\n",
    "    count[key] += 1\n",
    "\n",
    "\n",
    "## add training data to the ones that are under\n",
    "print(count)\n",
    "## as is evident there is a clear imbalance in the training set. It is not equal distribution. \n",
    "## Adding more training data essential here.\n",
    "\n",
    "def maxfreq(y_train, n_class):\n",
    "    counts = []\n",
    "    for i in range(n_class):\n",
    "        counts.append(np.sum(y_train == i))\n",
    "    return max(counts)\n",
    "\n",
    "def minfreq(y_train, n_class):\n",
    "    counts = []\n",
    "    for i in range(n_class):\n",
    "        counts.append(np.sum(y_train == i))\n",
    "    return min(counts)\n",
    "\n",
    "def sumfreq(y_train, n_class):\n",
    "    counts = []\n",
    "    for i in range(n_class):\n",
    "        counts.append(np.sum(y_train == i))\n",
    "    return sum(counts)\n",
    "\n",
    "maxf = maxfreq(y_train, 43) \n",
    "minf = minfreq(y_train, 43) \n",
    "gap = maxf - minf\n",
    "## UPPERLIMIT = gap\n",
    "UPPERLIMIT = maxf\n",
    "sumfreq = sumfreq(y_train, 43)\n",
    "\n",
    "print('max freq    = ', maxf)\n",
    "print('min freq    = ', minf)\n",
    "print ('upperlimit = ', UPPERLIMIT)\n",
    "print('sum of all frequencies = ', sumfreq)\n",
    "\n",
    "training_mean = (sumfreq/n_classes)  ## --> get the mean count\n",
    "print('mean        = ', training_mean)\n",
    "\n",
    "maxperturb = UPPERLIMIT // minf \n",
    "print('max perturbations required = ', maxperturb)"
   ]
  },
  {
   "cell_type": "code",
   "execution_count": 5,
   "metadata": {},
   "outputs": [
    {
     "name": "stdout",
     "output_type": "stream",
     "text": [
      "before augmentation...\n"
     ]
    },
    {
     "data": {
      "image/png": "[encoded data removed]",
      "text/plain": [
       "<matplotlib.figure.Figure at 0x7febb14996d8>"
      ]
     },
     "metadata": {},
     "output_type": "display_data"
    }
   ],
   "source": [
    "import numpy as np\n",
    "def display_data(y_train, n_class):\n",
    "    counts = []\n",
    "    for i in range(n_class):\n",
    "        counts.append(np.sum(y_train == i))\n",
    "    plt.bar(range(43),counts)\n",
    "    \n",
    "print('before augmentation...')    \n",
    "display_data(y_train, 43)\n",
    "\n"
   ]
  },
  {
   "cell_type": "code",
   "execution_count": 6,
   "metadata": {},
   "outputs": [
    {
     "name": "stdout",
     "output_type": "stream",
     "text": [
      "allspace   =  86430\n",
      "bar_space  =  34799\n",
      "whitespace =  51631\n"
     ]
    }
   ],
   "source": [
    "## let us try to normalize by trying to fill in the whitespace in the bar graph shown above\n",
    "\n",
    "## to fill the bar graph \n",
    "\n",
    "## Note:  allspace  = whitespace + bar_space\n",
    "bar_space = sumfreq\n",
    "allspace = maxf * n_classes \n",
    "whitespace = allspace - bar_space\n",
    "print('allspace   = ', allspace)\n",
    "print('bar_space  = ', bar_space)\n",
    "print('whitespace = ', whitespace)\n",
    "\n"
   ]
  },
  {
   "cell_type": "code",
   "execution_count": 7,
   "metadata": {},
   "outputs": [
    {
     "name": "stdout",
     "output_type": "stream",
     "text": [
      "maxperturbations =  11\n"
     ]
    },
    {
     "data": {
      "image/png": "[encoded data removed]",
      "text/plain": [
       "<matplotlib.figure.Figure at 0x7feb6a5d5198>"
      ]
     },
     "metadata": {},
     "output_type": "display_data"
    }
   ],
   "source": [
    "import cv2\n",
    "import matplotlib.gridspec as gridspec\n",
    "## to add to the training set by creating jittered versions of the training\n",
    "## and expanding upon the training set.\n",
    "\n",
    "## refer to this paper: http://yann.lecun.com/exdb/publis/pdf/sermanet-ijcnn-11.pdf\n",
    "\n",
    "## PRE-PROCESSING \n",
    "\n",
    "## transformation  code only in this cell courtesy https://github.com/vxy10/ImageAugmentation\n",
    "## the author's blog is here: https://chatbotslife.com/german-sign-classification-using-deep-learning-neural-networks-98-8-solution-d05656bf51ad\n",
    "## as recommended by Subodh Malgonde in the forum: \n",
    "\n",
    "## angular transformation: [-15, 15] as described in LeCun's paper\n",
    "\n",
    "\n",
    "rows,cols,ch = image.shape\n",
    "\n",
    "def rotate_image(img, ang_range):\n",
    "    ## ang_range: Range of angles for rotation\n",
    "    #print('ang_range=', ang_range)\n",
    "    ang_rot = np.random.uniform(ang_range)-ang_range/2\n",
    "    #print(ang_rot)\n",
    "    Rot_M = cv2.getRotationMatrix2D((cols/2,rows/2),ang_rot,1)\n",
    "    rotated_image = cv2.warpAffine(img,Rot_M,(cols,rows))\n",
    "    return rotated_image\n",
    "\n",
    "def translate_image(img, trans_range):\n",
    "    tr_x = trans_range*np.random.uniform()-trans_range/2\n",
    "    tr_y = trans_range*np.random.uniform()-trans_range/2\n",
    "    Trans_M = np.float32([[1,0,tr_x],[0,1,tr_y]])\n",
    "    translated_image = cv2.warpAffine(img,Trans_M,(cols,rows))\n",
    "    return translated_image\n",
    "\n",
    "def shear_image(img, shear_range):\n",
    "    ## shear_range: Range of values to apply affine transform to\n",
    "    ## http://opencv-python-tutroals.readthedocs.io/en/latest/py_tutorials/py_imgproc/py_geometric_transformations/py_geometric_transformations.html#affine-transformation\n",
    "   \n",
    "    pts1 = np.float32([[5,5],[20,5],[5,20]])\n",
    "\n",
    "    pt1 = 5+shear_range*np.random.uniform()-shear_range/2\n",
    "    pt2 = 20+shear_range*np.random.uniform()-shear_range/2\n",
    "\n",
    "    pts2 = np.float32([[pt1,5],[pt2,pt1],[5,pt2]])\n",
    "    shear_M = cv2.getAffineTransform(pts1,pts2)\n",
    "    shear_image = cv2.warpAffine(img,shear_M,(cols,rows))\n",
    "    return shear_image\n",
    "\n",
    "def resize_image(image, resize_range):\n",
    "    pass\n",
    "    ##resized_image = \n",
    "    ## https://stackoverflow.com/questions/4195453/how-to-resize-an-image-with-opencv2-0-and-python2-6\n",
    "    ## dst = cv2.resize(src, None, fx = 2, fy = 2, interpolation = cv2.INTER_CUBIC)\n",
    "    ## may not implement here\n",
    "\n",
    "def alter_brightness(img, base=0.4):\n",
    "    image1 = cv2.cvtColor(img,cv2.COLOR_RGB2HSV)\n",
    "    ## base = 0.4 ##JH: 0.25 is too low for a base figure\n",
    "    random_bright = base+np.random.uniform()\n",
    "    ## print(random_bright)\n",
    "    image1[:,:,2] = image1[:,:,2]*random_bright\n",
    "    image1 = cv2.cvtColor(image1,cv2.COLOR_HSV2RGB)\n",
    "    return image1\n",
    "\n",
    "def brighten_image(img):\n",
    "    return alter_brightness(img, 1.4)\n",
    "#plt.imshow(image);\n",
    "#plt.imshow(rotated_image);\n",
    "#plt.axis('off');\n",
    "\n",
    "\n",
    "\n",
    "def apply_perturbation(myimg, ang_range, shear_range, trans_range, brightness):\n",
    "    img = myimg\n",
    "    img = rotate_image(img, ang_range=30)\n",
    "    img = shear_image(img, shear_range=10)\n",
    "    img = translate_image(img, trans_range=5)\n",
    "    ## check whether image is dark\n",
    "    img_mean  = np.mean(img) \n",
    "    darkthreshold = 40\n",
    "    if brightness==True:\n",
    "        if img_mean > darkthreshold:\n",
    "            img = alter_brightness(img)\n",
    "        else: \n",
    "            img = brighten_image(img)\n",
    "    \n",
    "    return img\n",
    "\n",
    "\n",
    "def get_perturbations(myimg, num_perturbations):\n",
    "    ##  keep the original for display\n",
    "    perturbed_images = [ np.copy(myimg)]\n",
    "    for i in range(num_perturbations - 1):\n",
    "        ## lecun's paper had a range of [-15, +15] for the angular rotation\n",
    "        ## shear range is 10\n",
    "        ## translation range is 5\n",
    "        p_img =  apply_perturbation(myimg, 30, 10, 5, brightness=True)\n",
    "        perturbed_images.append(p_img)\n",
    "    return perturbed_images\n",
    "        \n",
    "    \n",
    "    \n",
    "def showperturbations(myimage, num_perturbedimages):\n",
    "    gs1 = gridspec.GridSpec(10, 10)\n",
    "    gs1.update(wspace=0.01, hspace=0.02) # set the spacing between axes.\n",
    "    plt.figure(figsize=(12,12))\n",
    "    p_images = get_perturbations(myimage, num_perturbedimages)\n",
    "    i = 0\n",
    "    for img in p_images:\n",
    "        ax1 = plt.subplot(gs1[i])\n",
    "        ax1.set_xticklabels([])\n",
    "        ax1.set_yticklabels([])\n",
    "        ax1.set_aspect('equal')      \n",
    "        \n",
    "        ## Although, LeCun's paper says (-15, 15) for rotation, randomly perturbed in position \n",
    "        ## this method has only rotation, shear and translation\n",
    "        \n",
    "        ## img.shape should be (32,32, 3)\n",
    "        ### print(img.shape)  \n",
    "        plt.subplot(10,10,i+1)\n",
    "        i += 1\n",
    "        plt.imshow(img)\n",
    "        plt.axis('off')\n",
    "    plt.show()\n",
    "\n",
    "print('maxperturbations = ', maxperturb )\n",
    "showperturbations(image, maxperturb)"
   ]
  },
  {
   "cell_type": "code",
   "execution_count": 8,
   "metadata": {
    "collapsed": true
   },
   "outputs": [],
   "source": [
    "## JH: append the training set with more of these perturbations\n",
    "## JH: prior to perturbations, the accuracy on the validation set was 91% with 20 epochs\n",
    "\n",
    "## equalize the frequencies of the training data for all classes\n",
    "## attempt 1: Add 5 additional perturbations per image, without worrying about overall distributions\n",
    "\n",
    "## augmentation code courtesy https://github.com/TrW236/TrafficSignClassification\n",
    "## for helping out with the numpy way of adding matrix elements\n",
    "def augment_data(X_train, y_train, nclasses, num_perturbations, limit = UPPERLIMIT):\n",
    "    aug_X = []\n",
    "    aug_y = []\n",
    "    y_freqcount = [0] * n_classes\n",
    "    for x, y in zip(X_train, y_train):\n",
    "        ## check whether this class has breached the upperlimit\n",
    "        ## filling up the whitespace\n",
    "        currfreq = np.sum(y_train == y) + y_freqcount[y]\n",
    "        imagesadded = 0\n",
    "        if currfreq < limit:\n",
    "            ## add the perturbations here\n",
    "            imagesadded = num_perturbations \n",
    "            newimgs = get_perturbations(x, imagesadded)   ## possibly, 10 images\n",
    "        else:\n",
    "            ## add just a single perturbation to keep the original image\n",
    "            imagesadded = 1\n",
    "            newimgs = get_perturbations(x, imagesadded) ## will return two images\n",
    "            \n",
    "        y_freqcount[y] += imagesadded ## - 1  adding the raw image and the perturbations\n",
    "        aug_X.append(newimgs)\n",
    "        y_list = np.repeat([y], (imagesadded))  ## either 1 image added or imagesadded-1\n",
    "        aug_y.append(y_list)\n",
    "     \n",
    "    ## create a larger matrix with all the elements\n",
    "    aug_X = np.concatenate(aug_X)\n",
    "    aug_y = np.concatenate(aug_y)\n",
    "    print('aug_X = ', aug_X.shape)\n",
    "    print('aug_y = ', aug_y.shape)\n",
    "    return aug_X, aug_y\n",
    "        \n",
    "\n",
    "#maxperturb = 2\n",
    "\n",
    "\n",
    "\n",
    "    \n",
    "\n"
   ]
  },
  {
   "cell_type": "code",
   "execution_count": 9,
   "metadata": {
    "collapsed": true
   },
   "outputs": [],
   "source": [
    "## plot some random elements from the new training set and check\n",
    "def plot_random(n_row,n_col,X,y):\n",
    "\n",
    "    plt.figure(figsize = (11,8))\n",
    "    gs1 = gridspec.GridSpec(n_row,n_row)\n",
    "    gs1.update(wspace=0.01, hspace=0.02) # set the spacing between axes.\n",
    "\n",
    "    for i in range(n_row*n_col):\n",
    "        # i = i + 1 # grid spec indexes from 0\n",
    "        ax1 = plt.subplot(gs1[i])\n",
    "        plt.axis('on')\n",
    "        ax1.set_xticklabels([])\n",
    "        ax1.set_yticklabels([])\n",
    "        ax1.set_aspect('equal')\n",
    "        #plt.subplot(4,11,i+1)\n",
    "        ind_plot = np.random.randint(1,len(y))\n",
    "        plt.imshow(X[ind_plot])\n",
    "        plt.text(2,4,str(y[ind_plot]),\n",
    "             color='k',backgroundcolor='c')\n",
    "        plt.axis('off')\n",
    "    plt.show()"
   ]
  },
  {
   "cell_type": "code",
   "execution_count": 10,
   "metadata": {},
   "outputs": [
    {
     "data": {
      "image/png": "[encoded data removed]",
      "text/plain": [
       "<matplotlib.figure.Figure at 0x7feb69fada58>"
      ]
     },
     "metadata": {},
     "output_type": "display_data"
    }
   ],
   "source": [
    "plot_random(5, 5, X_train, y_train)"
   ]
  },
  {
   "cell_type": "markdown",
   "metadata": {},
   "source": [
    "----\n",
    "\n",
    "## Step 2: Design and Test a Model Architecture\n",
    "\n",
    "Design and implement a deep learning model that learns to recognize traffic signs. Train and test your model on the [German Traffic Sign Dataset](http://benchmark.ini.rub.de/?section=gtsrb&subsection=dataset).\n",
    "\n",
    "The LeNet-5 implementation shown in the [classroom](https://classroom.udacity.com/nanodegrees/nd013/parts/fbf77062-5703-404e-b60c-95b78b2f3f9e/modules/6df7ae49-c61c-4bb2-a23e-6527e69209ec/lessons/601ae704-1035-4287-8b11-e2c2716217ad/concepts/d4aca031-508f-4e0b-b493-e7b706120f81) at the end of the CNN lesson is a solid starting point. You'll have to change the number of classes and possibly the preprocessing, but aside from that it's plug and play! \n",
    "\n",
    "With the LeNet-5 solution from the lecture, you should expect a validation set accuracy of about 0.89. To meet specifications, the validation set accuracy will need to be at least 0.93. It is possible to get an even higher accuracy, but 0.93 is the minimum for a successful project submission. \n",
    "\n",
    "There are various aspects to consider when thinking about this problem:\n",
    "\n",
    "- Neural network architecture (is the network over or underfitting?)\n",
    "- Play around preprocessing techniques (normalization, rgb to grayscale, etc)\n",
    "- Number of examples per label (some have more than others).\n",
    "- Generate fake data.\n",
    "\n",
    "Here is an example of a [published baseline model on this problem](http://yann.lecun.com/exdb/publis/pdf/sermanet-ijcnn-11.pdf). It's not required to be familiar with the approach used in the paper but, it's good practice to try to read papers like these."
   ]
  },
  {
   "cell_type": "markdown",
   "metadata": {},
   "source": [
    "### Pre-process the Data Set (normalization, grayscale, etc.)"
   ]
  },
  {
   "cell_type": "markdown",
   "metadata": {},
   "source": [
    "Minimally, the image data should be normalized so that the data has mean zero and equal variance. For image data, `(pixel - 128)/ 128` is a quick way to approximately normalize the data and can be used in this project. \n",
    "\n",
    "Other pre-processing steps are optional. You can try different techniques to see if it improves performance. \n",
    "\n",
    "Use the code cell (or multiple code cells, if necessary) to implement the first step of your project."
   ]
  },
  {
   "cell_type": "code",
   "execution_count": 11,
   "metadata": {
    "scrolled": true
   },
   "outputs": [
    {
     "name": "stdout",
     "output_type": "stream",
     "text": [
      "aug_X =  (81909, 32, 32, 3)\n",
      "aug_y =  (81909,)\n",
      "(81909, 32, 32, 3)\n",
      "32 32 3\n",
      "0\n",
      "shape after being preprocessed =  (81909, 32, 32, 3)\n",
      "shape after being preprocessed =  (4410, 32, 32, 3)\n",
      "shape after being preprocessed =  (12630, 32, 32, 3)\n",
      "-1.0\n"
     ]
    }
   ],
   "source": [
    "### Preprocess the data here. It is required to normalize the data. Other preprocessing steps could include \n",
    "### converting to grayscale, etc.\n",
    "### Feel free to use as many code cells as needed.\n",
    "\n",
    "\n",
    "from sklearn.utils import shuffle\n",
    "\n",
    "X_train, y_train = augment_data(X_train, y_train, n_classes, maxperturb, UPPERLIMIT)\n",
    "X_train, y_train = shuffle(X_train, y_train)\n",
    "\n",
    "## overwriting previous values of X_train and replacing with\n",
    "## new_X_train and new_y_train\n",
    "\n",
    "### New\n",
    "## X_train, y_train = shuffle(new_X_train, new_y_train)\n",
    "\n",
    "### OLD: check with this for a smaller training set \n",
    "## X_train, y_train = shuffle(X_train, y_train)\n",
    "\n",
    "## print(X_train.shape)\n",
    "print(X_train.shape)\n",
    "\n",
    "\n",
    "rows = image.shape[0]\n",
    "cols = image.shape[1]\n",
    "colours = image.shape[2]\n",
    "print(rows, cols, colours)\n",
    "\n",
    "## JH: use np.array indices\n",
    "a = X_train[0, 0, 0, 1]\n",
    "print(a)\n",
    "\n",
    "## normalizing all the three sets\n",
    "def normalize (img):\n",
    "    imgnorm = (img.astype(np.float32) - 128.0)/128.0\n",
    "    return imgnorm\n",
    "\n",
    "def preprocess_image(imgs):\n",
    "    output = []\n",
    "    for img in imgs:\n",
    "        imgnew = normalize(img)\n",
    "        output.append(imgnew)\n",
    "    output = np.array(output)\n",
    "    print('shape after being preprocessed = ', output.shape)\n",
    "    return output\n",
    "\n",
    "X_train = preprocess_image(X_train)\n",
    "X_valid = preprocess_image(X_valid)\n",
    "X_test = preprocess_image(X_test)\n",
    "\n",
    "## this works too.  \n",
    "# X_train = (X_train - 128.0)/128.0\n",
    "# X_valid = (X_valid - 128.0)/128.0\n",
    "# X_test = (X_test - 128.0)/128.0\n",
    "\n",
    "## JH: just to test\n",
    "a = X_train[0, 0, 0, 1]\n",
    "\n",
    "print(a)\n",
    "\n"
   ]
  },
  {
   "cell_type": "code",
   "execution_count": 12,
   "metadata": {},
   "outputs": [
    {
     "name": "stdout",
     "output_type": "stream",
     "text": [
      "after augmentation...\n"
     ]
    },
    {
     "data": {
      "image/png": "[encoded data removed]",
      "text/plain": [
       "<matplotlib.figure.Figure at 0x7feb69bb54a8>"
      ]
     },
     "metadata": {},
     "output_type": "display_data"
    }
   ],
   "source": [
    "print('after augmentation...')    \n",
    "display_data(y_train, 43)"
   ]
  },
  {
   "cell_type": "markdown",
   "metadata": {},
   "source": [
    "### Model Architecture"
   ]
  },
  {
   "cell_type": "code",
   "execution_count": 13,
   "metadata": {
    "collapsed": true
   },
   "outputs": [],
   "source": [
    "from tensorflow.contrib.layers import flatten\n",
    "import tensorflow as tf\n",
    "\n",
    "\n",
    "mu = 0\n",
    "sigma = 0.1\n"
   ]
  },
  {
   "cell_type": "code",
   "execution_count": 14,
   "metadata": {
    "collapsed": true
   },
   "outputs": [],
   "source": [
    "def add_conv_layer(X_input, mybias, myweights, strides=[1, 1, 1, 1], padding='VALID'):\n",
    "    \"\"\" \n",
    "    creates a Covnet (Convolutional Neural Net) with the following inputs:\n",
    "        weights is (height, width, channel, output), \n",
    "        strides is [1, 1, 1, 1] by default OR 1 along each dimension\n",
    "        padding is 'VALID' or no padding by default\n",
    "        bias is [] * output\n",
    "    \"\"\"\n",
    "    my_conv_layer = tf.nn.conv2d(X_input, myweights, strides, padding) ## placeholder for a covnet layer with weights, strides, no padding\n",
    "    my_conv_layer = tf.nn.bias_add(my_conv_layer, mybias)     # Add bias placeholder \n",
    "    my_conv_layer = tf.nn.relu(my_conv_layer)  #  Activation with a RELU \n",
    "    print('adding a covnet layer with input ...', X_input.shape)\n",
    "    return my_conv_layer\n",
    "\n",
    "    \n",
    "def add_pool_layer(X_input, ksize=[1, 2, 2, 1], strides=[1, 2, 2, 1], padding='VALID'):\n",
    "    max_pool_layer = tf.nn.max_pool(X_input, ksize, strides, padding) \n",
    "    print ('adding a max pool layer with input shape ... ', X_input.shape)\n",
    "    return max_pool_layer\n",
    "    \n",
    "def add_fc_layer(X_input, myweights, mybias, activation_func=True):\n",
    "    \"\"\"\n",
    "    returns a fully connected NN layer\n",
    "    X_input is a 1xN matrix (row matrix)\n",
    "    weights is a NxM matrix \n",
    "    bias is a 1xM matrix\n",
    "    activation_func is boolean -- allows a RELU to be set\n",
    "    \"\"\"\n",
    "    mat_mult = tf.matmul(X_input, myweights)\n",
    "    fc = tf.add(mat_mult, mybias)  \n",
    "    if activation_func: \n",
    "        fc = tf.nn.relu(fc) # Activation.\n",
    "    else: \n",
    "        print('no relu...')\n",
    "    print ('added a fully connected layer with input shape ', X_input.shape, ', and output shape ', fc.shape)\n",
    "    return fc\n",
    "\n",
    "def add_dropout_layer():\n",
    "    pass\n",
    "    "
   ]
  },
  {
   "cell_type": "code",
   "execution_count": 15,
   "metadata": {
    "collapsed": true
   },
   "outputs": [],
   "source": [
    "### Define your architecture here.\n",
    "### Feel free to use as many code cells as needed.\n",
    "\n",
    "### Using the LeNet model for starters\n",
    "\n",
    "\n",
    "def myneuralnetarch(x):    \n",
    "    # Arguments used for tf.truncated_normal, randomly defines variables for the weights and biases for each layer\n",
    "\n",
    "    ## weights and bias\n",
    "    weights = { \n",
    "        ## height, width, colour channels, and output  \n",
    "        'c1' : tf.Variable(tf.truncated_normal(shape=(5, 5, 3, 6), mean=mu, stddev=sigma)),\n",
    "        'c2': tf.Variable(tf.truncated_normal(shape=(5, 5, 6, 16), mean=mu, stddev=sigma)),\n",
    "        ## fully connected weights\n",
    "        'fc1': tf.Variable(tf.truncated_normal(shape=(400, 1200), mean=mu, stddev=sigma)), ## originally 120, then 1200, \n",
    "        'fc2': tf.Variable(tf.truncated_normal(shape=(1200, 84), mean=mu, stddev=sigma)), \n",
    "        'fc3': tf.Variable(tf.truncated_normal(shape=(84, 43), mean=mu, stddev=sigma)) \n",
    "    }\n",
    "    \n",
    "    bias = {\n",
    "        'c1' : tf.Variable(tf.zeros(6)), ## output\n",
    "        'c2' : tf.Variable(tf.zeros(16)),\n",
    "        'fc1' : tf.Variable(tf.zeros(1200)), ### originally, 120\n",
    "        'fc2' : tf.Variable(tf.zeros(84)),\n",
    "        'fc3' : tf.Variable(tf.zeros(43))\n",
    "    }\n",
    "    \n",
    "    # TODO: Layer 1: Convolutional. Input = 32x32x3. Output = 28x28x6.\n",
    "    # Image Properties \n",
    "    # input height x width is 32 x 32 \n",
    "    # input colour channel is 3\n",
    "    # filter size is 5\n",
    "  \n",
    "    # Convolution filter \n",
    "    \n",
    "    ## input = tf.placeholder(tf.float32, shape=[BATCH_SIZE, 32, 32, 1])\n",
    "    ## ^^ this part would be wrong. Use 'x' mentioned in the parameters, instead.\n",
    "  \n",
    "    ### output height and width become 28 \n",
    "    ### -- HOW: output_height = (32 - 5 + 1)/1  <-- stride = 1\n",
    "    # Apply Convolution \n",
    "    # conv_layer1 = tf.nn.conv2d(x, weights['c1'], strides=[1, 1, 1, 1], padding='VALID') \n",
    "    conv1 = add_conv_layer(x, bias['c1'], weights['c1'], strides=[1, 1, 1, 1], padding='VALID') \n",
    "    # Add bias \n",
    "    ## conv_1 = tf.nn.bias_add(conv_layer1, bias['c1']) \n",
    "        \n",
    "    # TODO: Activation.\n",
    "    ## conv_layer1 = tf.nn.relu(conv_layer1)\n",
    "\n",
    "    # TODO: Pooling. Input = 28x28x6. Output = 14x14x6.\n",
    "    # k of 2 achieves this\n",
    "    \n",
    "    ## max_pool_layer = tf.nn.max_pool(conv_layer1, ksize=[1, 2, 2, 1], strides=[1, 2, 2, 1], padding='VALID') \n",
    "    pool1 = add_pool_layer(conv1, ksize=[1, 2, 2, 1], strides=[1, 2, 2, 1], padding='VALID')\n",
    "\n",
    "    # TODO: Layer 2: Convolutional. Output = 10x10x16.\n",
    "    \n",
    "    # output is 16, input channels are 6, height x width of the input = 14x14\n",
    "    \n",
    "    # Convolution filter \n",
    "    # filter size is 5\n",
    "    # so, the output becomes 10 x 10 \n",
    "    ## out_height becomes = 10 --> (14 - 5 + 1)/1  i.e. (input - filter + 1)/stride\n",
    "    # out_width becomes = 10 \n",
    " \n",
    "    # Apply Convolution \n",
    "    # conv2 = tf.nn.conv2d(pool1, weights['c2'], strides=[1, 1, 1, 1], padding='VALID') \n",
    "    # Add bias \n",
    "    # conv2 = tf.nn.bias_add(conv2, bias['c2']) \n",
    "    \n",
    "    # TODO: Activation.\n",
    "    #conv2 = tf.nn.relu(conv2)\n",
    "    conv2 = add_conv_layer(pool1, bias['c2'], weights['c2'], strides=[1, 1, 1, 1], padding='VALID')\n",
    "\n",
    "    # TODO: Pooling. Input = 10x10x16. Output = 5x5x16.\n",
    "    # a stride of 2 achieves that effect\n",
    "    ## max_pool_layer2 = tf.nn.max_pool(conv_layerL2, ksize=[1, 2, 2, 1], strides=[1, 2, 2, 1], padding='VALID') \n",
    "    pool2 = add_pool_layer(conv2, ksize=[1, 2, 2, 1], strides=[1, 2, 2, 1], padding='VALID')\n",
    "    \n",
    "    \n",
    "    ### \n",
    "    # TODO: Flatten. Input = 5x5x16. Output = 1x400.\n",
    "    pool2_flat = flatten(pool2)\n",
    "\n",
    "    # TODO: Layer 3: Fully Connected. Input = 400. Output = 120.\n",
    "    # 1x400 * 400x120 -> 1x120\n",
    "    # fc1 = tf.add(tf.matmul(pool2_flat, weights['fc1']), bias['fc1'])  \n",
    "    \n",
    "    # TODO: Activation.\n",
    "    #fc1 = tf.nn.relu(fc1)\n",
    "    fc1 = add_fc_layer(pool2_flat, weights['fc1'], bias['fc1'])\n",
    "    \n",
    "    # TODO: Layer 4: Fully Connected. Input = 120. Output = 84\n",
    "    ## JH: already flattened \n",
    "    ## 1x120 * 120x84 --> 1x84     + 1x84\n",
    "    ## fc2 = tf.add(tf.matmul(fc1, weights['fc2']), bias['fc2'])\n",
    "    \n",
    "    # TODO: Activation.\n",
    "    ## fc2 = tf.nn.relu(fc2)\n",
    "    fc2 = add_fc_layer(fc1, weights['fc2'], bias['fc2'])\n",
    "\n",
    "    # TODO: Layer 5: Fully Connected. Input = 84. Output = 10.\n",
    "    ## 1x84 * 84*43 --> 1x43\n",
    "    # fc3 = tf.add(tf.matmul(fc2, weights['fc3']), bias['fc3'])\n",
    "    fc3 = add_fc_layer(fc2, weights['fc3'], bias['fc3'], activation_func=False)\n",
    "    logits = fc3\n",
    "    \n",
    "    return logits"
   ]
  },
  {
   "cell_type": "markdown",
   "metadata": {},
   "source": [
    "### Train, Validate and Test the Model"
   ]
  },
  {
   "cell_type": "markdown",
   "metadata": {},
   "source": [
    "A validation set can be used to assess how well the model is performing. A low accuracy on the training and validation\n",
    "sets imply underfitting. A high accuracy on the training set but low accuracy on the validation set implies overfitting."
   ]
  },
  {
   "cell_type": "code",
   "execution_count": 16,
   "metadata": {
    "collapsed": true
   },
   "outputs": [],
   "source": [
    "EPOCHS = 20 ###10\n",
    "BATCH_SIZE = 128"
   ]
  },
  {
   "cell_type": "code",
   "execution_count": 17,
   "metadata": {
    "collapsed": true
   },
   "outputs": [],
   "source": [
    "x = tf.placeholder(tf.float32, (None, 32, 32, 3))\n",
    "y = tf.placeholder(tf.int32, (None))\n",
    "one_hot_y = tf.one_hot(y, 43)"
   ]
  },
  {
   "cell_type": "code",
   "execution_count": 18,
   "metadata": {},
   "outputs": [
    {
     "name": "stdout",
     "output_type": "stream",
     "text": [
      "adding a covnet layer with input ... (?, 32, 32, 3)\n",
      "adding a max pool layer with input shape ...  (?, 28, 28, 6)\n",
      "adding a covnet layer with input ... (?, 14, 14, 6)\n",
      "adding a max pool layer with input shape ...  (?, 10, 10, 16)\n",
      "added a fully connected layer with input shape  (?, 400) , and output shape  (?, 1200)\n",
      "added a fully connected layer with input shape  (?, 1200) , and output shape  (?, 84)\n",
      "no relu...\n",
      "added a fully connected layer with input shape  (?, 84) , and output shape  (?, 43)\n"
     ]
    }
   ],
   "source": [
    "\n",
    "\n",
    "### Train your model here.\n",
    "### Calculate and report the accuracy on the training and validation set.\n",
    "### Once a final model architecture is selected, \n",
    "### the accuracy on the test set should be calculated and reported as well.\n",
    "### Feel free to use as many code cells as needed.\n",
    "\n",
    "rate = 0.001\n",
    "\n",
    "logits = myneuralnetarch(x)\n",
    "cross_entropy = tf.nn.softmax_cross_entropy_with_logits(labels=one_hot_y, logits=logits)\n",
    "loss_operation = tf.reduce_mean(cross_entropy)\n",
    "optimizer = tf.train.AdamOptimizer(learning_rate = rate)\n",
    "training_operation = optimizer.minimize(loss_operation)"
   ]
  },
  {
   "cell_type": "code",
   "execution_count": 19,
   "metadata": {
    "collapsed": true
   },
   "outputs": [],
   "source": [
    "correct_prediction = tf.equal(tf.argmax(logits, 1), tf.argmax(one_hot_y, 1))\n",
    "accuracy_operation = tf.reduce_mean(tf.cast(correct_prediction, tf.float32))\n",
    "saver = tf.train.Saver()\n",
    "\n",
    "def evaluate(X_data, y_data):\n",
    "    num_examples = len(X_data)\n",
    "    total_accuracy = 0\n",
    "    sess = tf.get_default_session()\n",
    "    for offset in range(0, num_examples, BATCH_SIZE):\n",
    "        batch_x, batch_y = X_data[offset:offset+BATCH_SIZE], y_data[offset:offset+BATCH_SIZE]\n",
    "        accuracy = sess.run(accuracy_operation, feed_dict={x: batch_x, y: batch_y})\n",
    "        total_accuracy += (accuracy * len(batch_x))\n",
    "    return total_accuracy / num_examples"
   ]
  },
  {
   "cell_type": "code",
   "execution_count": 20,
   "metadata": {},
   "outputs": [
    {
     "name": "stdout",
     "output_type": "stream",
     "text": [
      "Training...\n",
      "\n",
      "EPOCH 1 ...\n",
      "Validation Accuracy = 0.737\n",
      "\n"
     ]
    },
    {
     "ename": "KeyboardInterrupt",
     "evalue": "",
     "output_type": "error",
     "traceback": [
      "\u001b[0;31m---------------------------------------------------------------------------\u001b[0m",
      "\u001b[0;31mKeyboardInterrupt\u001b[0m                         Traceback (most recent call last)",
      "\u001b[0;32m<ipython-input-20-afdbfcb153f0>\u001b[0m in \u001b[0;36m<module>\u001b[0;34m()\u001b[0m\n\u001b[1;32m     10\u001b[0m             \u001b[0mend\u001b[0m \u001b[0;34m=\u001b[0m \u001b[0moffset\u001b[0m \u001b[0;34m+\u001b[0m \u001b[0mBATCH_SIZE\u001b[0m\u001b[0;34m\u001b[0m\u001b[0m\n\u001b[1;32m     11\u001b[0m             \u001b[0mbatch_x\u001b[0m\u001b[0;34m,\u001b[0m \u001b[0mbatch_y\u001b[0m \u001b[0;34m=\u001b[0m \u001b[0mX_train\u001b[0m\u001b[0;34m[\u001b[0m\u001b[0moffset\u001b[0m\u001b[0;34m:\u001b[0m\u001b[0mend\u001b[0m\u001b[0;34m]\u001b[0m\u001b[0;34m,\u001b[0m \u001b[0my_train\u001b[0m\u001b[0;34m[\u001b[0m\u001b[0moffset\u001b[0m\u001b[0;34m:\u001b[0m\u001b[0mend\u001b[0m\u001b[0;34m]\u001b[0m\u001b[0;34m\u001b[0m\u001b[0m\n\u001b[0;32m---> 12\u001b[0;31m             \u001b[0msess\u001b[0m\u001b[0;34m.\u001b[0m\u001b[0mrun\u001b[0m\u001b[0;34m(\u001b[0m\u001b[0mtraining_operation\u001b[0m\u001b[0;34m,\u001b[0m \u001b[0mfeed_dict\u001b[0m\u001b[0;34m=\u001b[0m\u001b[0;34m{\u001b[0m\u001b[0mx\u001b[0m\u001b[0;34m:\u001b[0m \u001b[0mbatch_x\u001b[0m\u001b[0;34m,\u001b[0m \u001b[0my\u001b[0m\u001b[0;34m:\u001b[0m \u001b[0mbatch_y\u001b[0m\u001b[0;34m}\u001b[0m\u001b[0;34m)\u001b[0m\u001b[0;34m\u001b[0m\u001b[0m\n\u001b[0m\u001b[1;32m     13\u001b[0m \u001b[0;34m\u001b[0m\u001b[0m\n\u001b[1;32m     14\u001b[0m         \u001b[0mvalidation_accuracy\u001b[0m \u001b[0;34m=\u001b[0m \u001b[0mevaluate\u001b[0m\u001b[0;34m(\u001b[0m\u001b[0mX_valid\u001b[0m\u001b[0;34m,\u001b[0m \u001b[0my_valid\u001b[0m\u001b[0;34m)\u001b[0m\u001b[0;34m\u001b[0m\u001b[0m\n",
      "\u001b[0;32m/home/jay/anaconda3/lib/python3.6/site-packages/tensorflow/python/client/session.py\u001b[0m in \u001b[0;36mrun\u001b[0;34m(self, fetches, feed_dict, options, run_metadata)\u001b[0m\n\u001b[1;32m    787\u001b[0m     \u001b[0;32mtry\u001b[0m\u001b[0;34m:\u001b[0m\u001b[0;34m\u001b[0m\u001b[0m\n\u001b[1;32m    788\u001b[0m       result = self._run(None, fetches, feed_dict, options_ptr,\n\u001b[0;32m--> 789\u001b[0;31m                          run_metadata_ptr)\n\u001b[0m\u001b[1;32m    790\u001b[0m       \u001b[0;32mif\u001b[0m \u001b[0mrun_metadata\u001b[0m\u001b[0;34m:\u001b[0m\u001b[0;34m\u001b[0m\u001b[0m\n\u001b[1;32m    791\u001b[0m         \u001b[0mproto_data\u001b[0m \u001b[0;34m=\u001b[0m \u001b[0mtf_session\u001b[0m\u001b[0;34m.\u001b[0m\u001b[0mTF_GetBuffer\u001b[0m\u001b[0;34m(\u001b[0m\u001b[0mrun_metadata_ptr\u001b[0m\u001b[0;34m)\u001b[0m\u001b[0;34m\u001b[0m\u001b[0m\n",
      "\u001b[0;32m/home/jay/anaconda3/lib/python3.6/site-packages/tensorflow/python/client/session.py\u001b[0m in \u001b[0;36m_run\u001b[0;34m(self, handle, fetches, feed_dict, options, run_metadata)\u001b[0m\n\u001b[1;32m    995\u001b[0m     \u001b[0;32mif\u001b[0m \u001b[0mfinal_fetches\u001b[0m \u001b[0;32mor\u001b[0m \u001b[0mfinal_targets\u001b[0m\u001b[0;34m:\u001b[0m\u001b[0;34m\u001b[0m\u001b[0m\n\u001b[1;32m    996\u001b[0m       results = self._do_run(handle, final_targets, final_fetches,\n\u001b[0;32m--> 997\u001b[0;31m                              feed_dict_string, options, run_metadata)\n\u001b[0m\u001b[1;32m    998\u001b[0m     \u001b[0;32melse\u001b[0m\u001b[0;34m:\u001b[0m\u001b[0;34m\u001b[0m\u001b[0m\n\u001b[1;32m    999\u001b[0m       \u001b[0mresults\u001b[0m \u001b[0;34m=\u001b[0m \u001b[0;34m[\u001b[0m\u001b[0;34m]\u001b[0m\u001b[0;34m\u001b[0m\u001b[0m\n",
      "\u001b[0;32m/home/jay/anaconda3/lib/python3.6/site-packages/tensorflow/python/client/session.py\u001b[0m in \u001b[0;36m_do_run\u001b[0;34m(self, handle, target_list, fetch_list, feed_dict, options, run_metadata)\u001b[0m\n\u001b[1;32m   1130\u001b[0m     \u001b[0;32mif\u001b[0m \u001b[0mhandle\u001b[0m \u001b[0;32mis\u001b[0m \u001b[0;32mNone\u001b[0m\u001b[0;34m:\u001b[0m\u001b[0;34m\u001b[0m\u001b[0m\n\u001b[1;32m   1131\u001b[0m       return self._do_call(_run_fn, self._session, feed_dict, fetch_list,\n\u001b[0;32m-> 1132\u001b[0;31m                            target_list, options, run_metadata)\n\u001b[0m\u001b[1;32m   1133\u001b[0m     \u001b[0;32melse\u001b[0m\u001b[0;34m:\u001b[0m\u001b[0;34m\u001b[0m\u001b[0m\n\u001b[1;32m   1134\u001b[0m       return self._do_call(_prun_fn, self._session, handle, feed_dict,\n",
      "\u001b[0;32m/home/jay/anaconda3/lib/python3.6/site-packages/tensorflow/python/client/session.py\u001b[0m in \u001b[0;36m_do_call\u001b[0;34m(self, fn, *args)\u001b[0m\n\u001b[1;32m   1137\u001b[0m   \u001b[0;32mdef\u001b[0m \u001b[0m_do_call\u001b[0m\u001b[0;34m(\u001b[0m\u001b[0mself\u001b[0m\u001b[0;34m,\u001b[0m \u001b[0mfn\u001b[0m\u001b[0;34m,\u001b[0m \u001b[0;34m*\u001b[0m\u001b[0margs\u001b[0m\u001b[0;34m)\u001b[0m\u001b[0;34m:\u001b[0m\u001b[0;34m\u001b[0m\u001b[0m\n\u001b[1;32m   1138\u001b[0m     \u001b[0;32mtry\u001b[0m\u001b[0;34m:\u001b[0m\u001b[0;34m\u001b[0m\u001b[0m\n\u001b[0;32m-> 1139\u001b[0;31m       \u001b[0;32mreturn\u001b[0m \u001b[0mfn\u001b[0m\u001b[0;34m(\u001b[0m\u001b[0;34m*\u001b[0m\u001b[0margs\u001b[0m\u001b[0;34m)\u001b[0m\u001b[0;34m\u001b[0m\u001b[0m\n\u001b[0m\u001b[1;32m   1140\u001b[0m     \u001b[0;32mexcept\u001b[0m \u001b[0merrors\u001b[0m\u001b[0;34m.\u001b[0m\u001b[0mOpError\u001b[0m \u001b[0;32mas\u001b[0m \u001b[0me\u001b[0m\u001b[0;34m:\u001b[0m\u001b[0;34m\u001b[0m\u001b[0m\n\u001b[1;32m   1141\u001b[0m       \u001b[0mmessage\u001b[0m \u001b[0;34m=\u001b[0m \u001b[0mcompat\u001b[0m\u001b[0;34m.\u001b[0m\u001b[0mas_text\u001b[0m\u001b[0;34m(\u001b[0m\u001b[0me\u001b[0m\u001b[0;34m.\u001b[0m\u001b[0mmessage\u001b[0m\u001b[0;34m)\u001b[0m\u001b[0;34m\u001b[0m\u001b[0m\n",
      "\u001b[0;32m/home/jay/anaconda3/lib/python3.6/site-packages/tensorflow/python/client/session.py\u001b[0m in \u001b[0;36m_run_fn\u001b[0;34m(session, feed_dict, fetch_list, target_list, options, run_metadata)\u001b[0m\n\u001b[1;32m   1119\u001b[0m         return tf_session.TF_Run(session, options,\n\u001b[1;32m   1120\u001b[0m                                  \u001b[0mfeed_dict\u001b[0m\u001b[0;34m,\u001b[0m \u001b[0mfetch_list\u001b[0m\u001b[0;34m,\u001b[0m \u001b[0mtarget_list\u001b[0m\u001b[0;34m,\u001b[0m\u001b[0;34m\u001b[0m\u001b[0m\n\u001b[0;32m-> 1121\u001b[0;31m                                  status, run_metadata)\n\u001b[0m\u001b[1;32m   1122\u001b[0m \u001b[0;34m\u001b[0m\u001b[0m\n\u001b[1;32m   1123\u001b[0m     \u001b[0;32mdef\u001b[0m \u001b[0m_prun_fn\u001b[0m\u001b[0;34m(\u001b[0m\u001b[0msession\u001b[0m\u001b[0;34m,\u001b[0m \u001b[0mhandle\u001b[0m\u001b[0;34m,\u001b[0m \u001b[0mfeed_dict\u001b[0m\u001b[0;34m,\u001b[0m \u001b[0mfetch_list\u001b[0m\u001b[0;34m)\u001b[0m\u001b[0;34m:\u001b[0m\u001b[0;34m\u001b[0m\u001b[0m\n",
      "\u001b[0;31mKeyboardInterrupt\u001b[0m: "
     ]
    }
   ],
   "source": [
    "with tf.Session() as sess:\n",
    "    sess.run(tf.global_variables_initializer())\n",
    "    num_examples = len(X_train)\n",
    "    \n",
    "    print(\"Training...\")\n",
    "    print()\n",
    "    for i in range(EPOCHS):\n",
    "        X_train, y_train = shuffle(X_train, y_train)\n",
    "        for offset in range(0, num_examples, BATCH_SIZE):\n",
    "            end = offset + BATCH_SIZE\n",
    "            batch_x, batch_y = X_train[offset:end], y_train[offset:end]\n",
    "            sess.run(training_operation, feed_dict={x: batch_x, y: batch_y})\n",
    "            \n",
    "        validation_accuracy = evaluate(X_valid, y_valid)\n",
    "        print(\"EPOCH {} ...\".format(i+1))\n",
    "        print(\"Validation Accuracy = {:.3f}\".format(validation_accuracy))\n",
    "        print()\n",
    "        \n",
    "    saver.save(sess, './traffic-sign-lenet')\n",
    "    print(\"Model saved\")"
   ]
  },
  {
   "cell_type": "code",
   "execution_count": null,
   "metadata": {
    "collapsed": true
   },
   "outputs": [],
   "source": [
    "with tf.Session() as sess:\n",
    "    saver.restore(sess, tf.train.latest_checkpoint('.'))\n",
    "\n",
    "    test_accuracy = evaluate(X_test, y_test)\n",
    "    print(\"Test Accuracy = {:.3f}\".format(test_accuracy))"
   ]
  },
  {
   "cell_type": "markdown",
   "metadata": {},
   "source": [
    "---\n",
    "\n",
    "## Step 3: Test a Model on New Images\n",
    "\n",
    "To give yourself more insight into how your model is working, download at least five pictures of German traffic signs from the web and use your model to predict the traffic sign type.\n",
    "\n",
    "You may find `signnames.csv` useful as it contains mappings from the class id (integer) to the actual sign name."
   ]
  },
  {
   "cell_type": "markdown",
   "metadata": {},
   "source": [
    "### Load and Output the Images"
   ]
  },
  {
   "cell_type": "code",
   "execution_count": null,
   "metadata": {
    "collapsed": true
   },
   "outputs": [],
   "source": [
    "### Load the images and plot them here.\n",
    "### Feel free to use as many code cells as needed."
   ]
  },
  {
   "cell_type": "markdown",
   "metadata": {},
   "source": [
    "### Predict the Sign Type for Each Image"
   ]
  },
  {
   "cell_type": "code",
   "execution_count": null,
   "metadata": {
    "collapsed": true
   },
   "outputs": [],
   "source": [
    "### Run the predictions here and use the model to output the prediction for each image.\n",
    "### Make sure to pre-process the images with the same pre-processing pipeline used earlier.\n",
    "### Feel free to use as many code cells as needed."
   ]
  },
  {
   "cell_type": "markdown",
   "metadata": {},
   "source": [
    "### Analyze Performance"
   ]
  },
  {
   "cell_type": "code",
   "execution_count": null,
   "metadata": {
    "collapsed": true
   },
   "outputs": [],
   "source": [
    "### Calculate the accuracy for these 5 new images. \n",
    "### For example, if the model predicted 1 out of 5 signs correctly, it's 20% accurate on these new images."
   ]
  },
  {
   "cell_type": "markdown",
   "metadata": {},
   "source": [
    "### Output Top 5 Softmax Probabilities For Each Image Found on the Web"
   ]
  },
  {
   "cell_type": "markdown",
   "metadata": {},
   "source": [
    "For each of the new images, print out the model's softmax probabilities to show the **certainty** of the model's predictions (limit the output to the top 5 probabilities for each image). [`tf.nn.top_k`](https://www.tensorflow.org/versions/r0.12/api_docs/python/nn.html#top_k) could prove helpful here. \n",
    "\n",
    "The example below demonstrates how tf.nn.top_k can be used to find the top k predictions for each image.\n",
    "\n",
    "`tf.nn.top_k` will return the values and indices (class ids) of the top k predictions. So if k=3, for each sign, it'll return the 3 largest probabilities (out of a possible 43) and the correspoding class ids.\n",
    "\n",
    "Take this numpy array as an example. The values in the array represent predictions. The array contains softmax probabilities for five candidate images with six possible classes. `tk.nn.top_k` is used to choose the three classes with the highest probability:\n",
    "\n",
    "```\n",
    "# (5, 6) array\n",
    "a = np.array([[ 0.24879643,  0.07032244,  0.12641572,  0.34763842,  0.07893497,\n",
    "         0.12789202],\n",
    "       [ 0.28086119,  0.27569815,  0.08594638,  0.0178669 ,  0.18063401,\n",
    "         0.15899337],\n",
    "       [ 0.26076848,  0.23664738,  0.08020603,  0.07001922,  0.1134371 ,\n",
    "         0.23892179],\n",
    "       [ 0.11943333,  0.29198961,  0.02605103,  0.26234032,  0.1351348 ,\n",
    "         0.16505091],\n",
    "       [ 0.09561176,  0.34396535,  0.0643941 ,  0.16240774,  0.24206137,\n",
    "         0.09155967]])\n",
    "```\n",
    "\n",
    "Running it through `sess.run(tf.nn.top_k(tf.constant(a), k=3))` produces:\n",
    "\n",
    "```\n",
    "TopKV2(values=array([[ 0.34763842,  0.24879643,  0.12789202],\n",
    "       [ 0.28086119,  0.27569815,  0.18063401],\n",
    "       [ 0.26076848,  0.23892179,  0.23664738],\n",
    "       [ 0.29198961,  0.26234032,  0.16505091],\n",
    "       [ 0.34396535,  0.24206137,  0.16240774]]), indices=array([[3, 0, 5],\n",
    "       [0, 1, 4],\n",
    "       [0, 5, 1],\n",
    "       [1, 3, 5],\n",
    "       [1, 4, 3]], dtype=int32))\n",
    "```\n",
    "\n",
    "Looking just at the first row we get `[ 0.34763842,  0.24879643,  0.12789202]`, you can confirm these are the 3 largest probabilities in `a`. You'll also notice `[3, 0, 5]` are the corresponding indices."
   ]
  },
  {
   "cell_type": "code",
   "execution_count": null,
   "metadata": {
    "collapsed": true
   },
   "outputs": [],
   "source": [
    "### Print out the top five softmax probabilities for the predictions on the German traffic sign images found on the web. \n",
    "### Feel free to use as many code cells as needed."
   ]
  },
  {
   "cell_type": "markdown",
   "metadata": {},
   "source": [
    "### Project Writeup\n",
    "\n",
    "Once you have completed the code implementation, document your results in a project writeup using this [template](https://github.com/udacity/CarND-Traffic-Sign-Classifier-Project/blob/master/writeup_template.md) as a guide. The writeup can be in a markdown or pdf file. "
   ]
  },
  {
   "cell_type": "markdown",
   "metadata": {},
   "source": [
    "> **Note**: Once you have completed all of the code implementations and successfully answered each question above, you may finalize your work by exporting the iPython Notebook as an HTML document. You can do this by using the menu above and navigating to  \\n\",\n",
    "    \"**File -> Download as -> HTML (.html)**. Include the finished document along with this notebook as your submission."
   ]
  },
  {
   "cell_type": "markdown",
   "metadata": {},
   "source": [
    "---\n",
    "\n",
    "## Step 4 (Optional): Visualize the Neural Network's State with Test Images\n",
    "\n",
    " This Section is not required to complete but acts as an additional excersise for understaning the output of a neural network's weights. While neural networks can be a great learning device they are often referred to as a black box. We can understand what the weights of a neural network look like better by plotting their feature maps. After successfully training your neural network you can see what it's feature maps look like by plotting the output of the network's weight layers in response to a test stimuli image. From these plotted feature maps, it's possible to see what characteristics of an image the network finds interesting. For a sign, maybe the inner network feature maps react with high activation to the sign's boundary outline or to the contrast in the sign's painted symbol.\n",
    "\n",
    " Provided for you below is the function code that allows you to get the visualization output of any tensorflow weight layer you want. The inputs to the function should be a stimuli image, one used during training or a new one you provided, and then the tensorflow variable name that represents the layer's state during the training process, for instance if you wanted to see what the [LeNet lab's](https://classroom.udacity.com/nanodegrees/nd013/parts/fbf77062-5703-404e-b60c-95b78b2f3f9e/modules/6df7ae49-c61c-4bb2-a23e-6527e69209ec/lessons/601ae704-1035-4287-8b11-e2c2716217ad/concepts/d4aca031-508f-4e0b-b493-e7b706120f81) feature maps looked like for it's second convolutional layer you could enter conv2 as the tf_activation variable.\n",
    "\n",
    "For an example of what feature map outputs look like, check out NVIDIA's results in their paper [End-to-End Deep Learning for Self-Driving Cars](https://devblogs.nvidia.com/parallelforall/deep-learning-self-driving-cars/) in the section Visualization of internal CNN State. NVIDIA was able to show that their network's inner weights had high activations to road boundary lines by comparing feature maps from an image with a clear path to one without. Try experimenting with a similar test to show that your trained network's weights are looking for interesting features, whether it's looking at differences in feature maps from images with or without a sign, or even what feature maps look like in a trained network vs a completely untrained one on the same sign image.\n",
    "\n",
    "<figure>\n",
    " <img src=\"visualize_cnn.png\" width=\"380\" alt=\"Combined Image\" />\n",
    " <figcaption>\n",
    " <p></p> \n",
    " <p style=\"text-align: center;\"> Your output should look something like this (above)</p> \n",
    " </figcaption>\n",
    "</figure>\n",
    " <p></p> \n"
   ]
  },
  {
   "cell_type": "code",
   "execution_count": null,
   "metadata": {
    "collapsed": true
   },
   "outputs": [],
   "source": [
    "### Visualize your network's feature maps here.\n",
    "### Feel free to use as many code cells as needed.\n",
    "\n",
    "# image_input: the test image being fed into the network to produce the feature maps\n",
    "# tf_activation: should be a tf variable name used during your training procedure that represents the calculated state of a specific weight layer\n",
    "# activation_min/max: can be used to view the activation contrast in more detail, by default matplot sets min and max to the actual min and max values of the output\n",
    "# plt_num: used to plot out multiple different weight feature map sets on the same block, just extend the plt number for each new feature map entry\n",
    "\n",
    "def outputFeatureMap(image_input, tf_activation, activation_min=-1, activation_max=-1 ,plt_num=1):\n",
    "    # Here make sure to preprocess your image_input in a way your network expects\n",
    "    # with size, normalization, ect if needed\n",
    "    # image_input =\n",
    "    # Note: x should be the same name as your network's tensorflow data placeholder variable\n",
    "    # If you get an error tf_activation is not defined it may be having trouble accessing the variable from inside a function\n",
    "    activation = tf_activation.eval(session=sess,feed_dict={x : image_input})\n",
    "    featuremaps = activation.shape[3]\n",
    "    plt.figure(plt_num, figsize=(15,15))\n",
    "    for featuremap in range(featuremaps):\n",
    "        plt.subplot(6,8, featuremap+1) # sets the number of feature maps to show on each row and column\n",
    "        plt.title('FeatureMap ' + str(featuremap)) # displays the feature map number\n",
    "        if activation_min != -1 & activation_max != -1:\n",
    "            plt.imshow(activation[0,:,:, featuremap], interpolation=\"nearest\", vmin =activation_min, vmax=activation_max, cmap=\"gray\")\n",
    "        elif activation_max != -1:\n",
    "            plt.imshow(activation[0,:,:, featuremap], interpolation=\"nearest\", vmax=activation_max, cmap=\"gray\")\n",
    "        elif activation_min !=-1:\n",
    "            plt.imshow(activation[0,:,:, featuremap], interpolation=\"nearest\", vmin=activation_min, cmap=\"gray\")\n",
    "        else:\n",
    "            plt.imshow(activation[0,:,:, featuremap], interpolation=\"nearest\", cmap=\"gray\")"
   ]
  },
  {
   "cell_type": "code",
   "execution_count": null,
   "metadata": {
    "collapsed": true
   },
   "outputs": [],
   "source": []
  }
 ],
 "metadata": {
  "anaconda-cloud": {},
  "kernelspec": {
   "display_name": "Python 3",
   "language": "python",
   "name": "python3"
  },
  "language_info": {
   "codemirror_mode": {
    "name": "ipython",
    "version": 3
   },
   "file_extension": ".py",
   "mimetype": "text/x-python",
   "name": "python",
   "nbconvert_exporter": "python",
   "pygments_lexer": "ipython3",
   "version": "3.6.1"
  }
 },
 "nbformat": 4,
 "nbformat_minor": 1
}
